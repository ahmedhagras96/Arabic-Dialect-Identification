{
  "cells": [
    {
      "cell_type": "code",
      "execution_count": 97,
      "id": "2405564c",
      "metadata": {
        "id": "2405564c"
      },
      "outputs": [],
      "source": [
        "#import nessery libraries\n",
        "import pandas as pd\n",
        "import numpy as np\n",
        "from sklearn.model_selection import train_test_split\n",
        "from sklearn.model_selection import GridSearchCV\n",
        "from sklearn.feature_extraction.text import CountVectorizer, TfidfVectorizer\n",
        "from sklearn.svm import LinearSVC\n",
        "from sklearn.linear_model import SGDClassifier\n",
        "from sklearn.pipeline import make_pipeline\n",
        "from sklearn.pipeline import Pipeline\n",
        "from sklearn import metrics\n",
        "import time\n",
        "import tensorflow as tf\n",
        "import spacy"
      ]
    },
    {
      "cell_type": "code",
      "execution_count": 98,
      "id": "1afc401e",
      "metadata": {
        "colab": {
          "base_uri": "https://localhost:8080/",
          "height": 206
        },
        "id": "1afc401e",
        "outputId": "650f92dc-7c19-4d58-b694-50050d97af83"
      },
      "outputs": [
        {
          "output_type": "execute_result",
          "data": {
            "text/plain": [
              "                    id dialect  \\\n",
              "0  1175358310087892992      IQ   \n",
              "1  1175416117793349632      IQ   \n",
              "2  1175450108898565888      IQ   \n",
              "3  1175471073770573824      IQ   \n",
              "4  1175496913145217024      IQ   \n",
              "\n",
              "                                                                                               text  \n",
              "0                                                                         لكن بالنهاية  ينتفض  يغير  \n",
              "1  يعني هذا محسوب على البشر  حيونه ووحشيه  وتطلبون من الغرب يحترمكم ويؤمن بدينكم ولاينعتكم بالإرهاب  \n",
              "2                                                                               مبين من كلامه خليجي  \n",
              "3                                                                         يسلملي مرورك وروحك الحلوه  \n",
              "4                                                                            وين هل الغيبه  اخ محمد  "
            ],
            "text/html": [
              "\n",
              "  <div id=\"df-1328a48c-5bf4-4761-8747-3dddbc4794e4\">\n",
              "    <div class=\"colab-df-container\">\n",
              "      <div>\n",
              "<style scoped>\n",
              "    .dataframe tbody tr th:only-of-type {\n",
              "        vertical-align: middle;\n",
              "    }\n",
              "\n",
              "    .dataframe tbody tr th {\n",
              "        vertical-align: top;\n",
              "    }\n",
              "\n",
              "    .dataframe thead th {\n",
              "        text-align: right;\n",
              "    }\n",
              "</style>\n",
              "<table border=\"1\" class=\"dataframe\">\n",
              "  <thead>\n",
              "    <tr style=\"text-align: right;\">\n",
              "      <th></th>\n",
              "      <th>id</th>\n",
              "      <th>dialect</th>\n",
              "      <th>text</th>\n",
              "    </tr>\n",
              "  </thead>\n",
              "  <tbody>\n",
              "    <tr>\n",
              "      <th>0</th>\n",
              "      <td>1175358310087892992</td>\n",
              "      <td>IQ</td>\n",
              "      <td>لكن بالنهاية  ينتفض  يغير</td>\n",
              "    </tr>\n",
              "    <tr>\n",
              "      <th>1</th>\n",
              "      <td>1175416117793349632</td>\n",
              "      <td>IQ</td>\n",
              "      <td>يعني هذا محسوب على البشر  حيونه ووحشيه  وتطلبون من الغرب يحترمكم ويؤمن بدينكم ولاينعتكم بالإرهاب</td>\n",
              "    </tr>\n",
              "    <tr>\n",
              "      <th>2</th>\n",
              "      <td>1175450108898565888</td>\n",
              "      <td>IQ</td>\n",
              "      <td>مبين من كلامه خليجي</td>\n",
              "    </tr>\n",
              "    <tr>\n",
              "      <th>3</th>\n",
              "      <td>1175471073770573824</td>\n",
              "      <td>IQ</td>\n",
              "      <td>يسلملي مرورك وروحك الحلوه</td>\n",
              "    </tr>\n",
              "    <tr>\n",
              "      <th>4</th>\n",
              "      <td>1175496913145217024</td>\n",
              "      <td>IQ</td>\n",
              "      <td>وين هل الغيبه  اخ محمد</td>\n",
              "    </tr>\n",
              "  </tbody>\n",
              "</table>\n",
              "</div>\n",
              "      <button class=\"colab-df-convert\" onclick=\"convertToInteractive('df-1328a48c-5bf4-4761-8747-3dddbc4794e4')\"\n",
              "              title=\"Convert this dataframe to an interactive table.\"\n",
              "              style=\"display:none;\">\n",
              "        \n",
              "  <svg xmlns=\"http://www.w3.org/2000/svg\" height=\"24px\"viewBox=\"0 0 24 24\"\n",
              "       width=\"24px\">\n",
              "    <path d=\"M0 0h24v24H0V0z\" fill=\"none\"/>\n",
              "    <path d=\"M18.56 5.44l.94 2.06.94-2.06 2.06-.94-2.06-.94-.94-2.06-.94 2.06-2.06.94zm-11 1L8.5 8.5l.94-2.06 2.06-.94-2.06-.94L8.5 2.5l-.94 2.06-2.06.94zm10 10l.94 2.06.94-2.06 2.06-.94-2.06-.94-.94-2.06-.94 2.06-2.06.94z\"/><path d=\"M17.41 7.96l-1.37-1.37c-.4-.4-.92-.59-1.43-.59-.52 0-1.04.2-1.43.59L10.3 9.45l-7.72 7.72c-.78.78-.78 2.05 0 2.83L4 21.41c.39.39.9.59 1.41.59.51 0 1.02-.2 1.41-.59l7.78-7.78 2.81-2.81c.8-.78.8-2.07 0-2.86zM5.41 20L4 18.59l7.72-7.72 1.47 1.35L5.41 20z\"/>\n",
              "  </svg>\n",
              "      </button>\n",
              "      \n",
              "  <style>\n",
              "    .colab-df-container {\n",
              "      display:flex;\n",
              "      flex-wrap:wrap;\n",
              "      gap: 12px;\n",
              "    }\n",
              "\n",
              "    .colab-df-convert {\n",
              "      background-color: #E8F0FE;\n",
              "      border: none;\n",
              "      border-radius: 50%;\n",
              "      cursor: pointer;\n",
              "      display: none;\n",
              "      fill: #1967D2;\n",
              "      height: 32px;\n",
              "      padding: 0 0 0 0;\n",
              "      width: 32px;\n",
              "    }\n",
              "\n",
              "    .colab-df-convert:hover {\n",
              "      background-color: #E2EBFA;\n",
              "      box-shadow: 0px 1px 2px rgba(60, 64, 67, 0.3), 0px 1px 3px 1px rgba(60, 64, 67, 0.15);\n",
              "      fill: #174EA6;\n",
              "    }\n",
              "\n",
              "    [theme=dark] .colab-df-convert {\n",
              "      background-color: #3B4455;\n",
              "      fill: #D2E3FC;\n",
              "    }\n",
              "\n",
              "    [theme=dark] .colab-df-convert:hover {\n",
              "      background-color: #434B5C;\n",
              "      box-shadow: 0px 1px 3px 1px rgba(0, 0, 0, 0.15);\n",
              "      filter: drop-shadow(0px 1px 2px rgba(0, 0, 0, 0.3));\n",
              "      fill: #FFFFFF;\n",
              "    }\n",
              "  </style>\n",
              "\n",
              "      <script>\n",
              "        const buttonEl =\n",
              "          document.querySelector('#df-1328a48c-5bf4-4761-8747-3dddbc4794e4 button.colab-df-convert');\n",
              "        buttonEl.style.display =\n",
              "          google.colab.kernel.accessAllowed ? 'block' : 'none';\n",
              "\n",
              "        async function convertToInteractive(key) {\n",
              "          const element = document.querySelector('#df-1328a48c-5bf4-4761-8747-3dddbc4794e4');\n",
              "          const dataTable =\n",
              "            await google.colab.kernel.invokeFunction('convertToInteractive',\n",
              "                                                     [key], {});\n",
              "          if (!dataTable) return;\n",
              "\n",
              "          const docLinkHtml = 'Like what you see? Visit the ' +\n",
              "            '<a target=\"_blank\" href=https://colab.research.google.com/notebooks/data_table.ipynb>data table notebook</a>'\n",
              "            + ' to learn more about interactive tables.';\n",
              "          element.innerHTML = '';\n",
              "          dataTable['output_type'] = 'display_data';\n",
              "          await google.colab.output.renderOutput(dataTable, element);\n",
              "          const docLink = document.createElement('div');\n",
              "          docLink.innerHTML = docLinkHtml;\n",
              "          element.appendChild(docLink);\n",
              "        }\n",
              "      </script>\n",
              "    </div>\n",
              "  </div>\n",
              "  "
            ]
          },
          "metadata": {},
          "execution_count": 98
        }
      ],
      "source": [
        "#inspect our data \n",
        "pd.set_option('display.max_colwidth', 100000)\n",
        "pd.set_option(\"display.min_rows\", 20)\n",
        "text_data = pd.read_csv('text_ArabDialect_dataset.csv')\n",
        "text_data.head()"
      ]
    },
    {
      "cell_type": "code",
      "source": [
        "text_data.isna().sum()"
      ],
      "metadata": {
        "colab": {
          "base_uri": "https://localhost:8080/"
        },
        "id": "dQgaUsAs2001",
        "outputId": "e1b52a26-f55a-44f9-84fa-ea8ef2f93202"
      },
      "id": "dQgaUsAs2001",
      "execution_count": 99,
      "outputs": [
        {
          "output_type": "execute_result",
          "data": {
            "text/plain": [
              "id         0\n",
              "dialect    0\n",
              "text       1\n",
              "dtype: int64"
            ]
          },
          "metadata": {},
          "execution_count": 99
        }
      ]
    },
    {
      "cell_type": "code",
      "source": [
        "text_data[text_data['text'].isna() == True]"
      ],
      "metadata": {
        "colab": {
          "base_uri": "https://localhost:8080/",
          "height": 81
        },
        "id": "oViBYgj-l4Uo",
        "outputId": "7ac1730d-2bb0-481d-ebb5-dd5de02cb6bd"
      },
      "id": "oViBYgj-l4Uo",
      "execution_count": 100,
      "outputs": [
        {
          "output_type": "execute_result",
          "data": {
            "text/plain": [
              "                         id dialect text\n",
              "212439  1173616403557081088      SA  NaN"
            ],
            "text/html": [
              "\n",
              "  <div id=\"df-402646d9-9691-481d-b27a-4062fd8952a9\">\n",
              "    <div class=\"colab-df-container\">\n",
              "      <div>\n",
              "<style scoped>\n",
              "    .dataframe tbody tr th:only-of-type {\n",
              "        vertical-align: middle;\n",
              "    }\n",
              "\n",
              "    .dataframe tbody tr th {\n",
              "        vertical-align: top;\n",
              "    }\n",
              "\n",
              "    .dataframe thead th {\n",
              "        text-align: right;\n",
              "    }\n",
              "</style>\n",
              "<table border=\"1\" class=\"dataframe\">\n",
              "  <thead>\n",
              "    <tr style=\"text-align: right;\">\n",
              "      <th></th>\n",
              "      <th>id</th>\n",
              "      <th>dialect</th>\n",
              "      <th>text</th>\n",
              "    </tr>\n",
              "  </thead>\n",
              "  <tbody>\n",
              "    <tr>\n",
              "      <th>212439</th>\n",
              "      <td>1173616403557081088</td>\n",
              "      <td>SA</td>\n",
              "      <td>NaN</td>\n",
              "    </tr>\n",
              "  </tbody>\n",
              "</table>\n",
              "</div>\n",
              "      <button class=\"colab-df-convert\" onclick=\"convertToInteractive('df-402646d9-9691-481d-b27a-4062fd8952a9')\"\n",
              "              title=\"Convert this dataframe to an interactive table.\"\n",
              "              style=\"display:none;\">\n",
              "        \n",
              "  <svg xmlns=\"http://www.w3.org/2000/svg\" height=\"24px\"viewBox=\"0 0 24 24\"\n",
              "       width=\"24px\">\n",
              "    <path d=\"M0 0h24v24H0V0z\" fill=\"none\"/>\n",
              "    <path d=\"M18.56 5.44l.94 2.06.94-2.06 2.06-.94-2.06-.94-.94-2.06-.94 2.06-2.06.94zm-11 1L8.5 8.5l.94-2.06 2.06-.94-2.06-.94L8.5 2.5l-.94 2.06-2.06.94zm10 10l.94 2.06.94-2.06 2.06-.94-2.06-.94-.94-2.06-.94 2.06-2.06.94z\"/><path d=\"M17.41 7.96l-1.37-1.37c-.4-.4-.92-.59-1.43-.59-.52 0-1.04.2-1.43.59L10.3 9.45l-7.72 7.72c-.78.78-.78 2.05 0 2.83L4 21.41c.39.39.9.59 1.41.59.51 0 1.02-.2 1.41-.59l7.78-7.78 2.81-2.81c.8-.78.8-2.07 0-2.86zM5.41 20L4 18.59l7.72-7.72 1.47 1.35L5.41 20z\"/>\n",
              "  </svg>\n",
              "      </button>\n",
              "      \n",
              "  <style>\n",
              "    .colab-df-container {\n",
              "      display:flex;\n",
              "      flex-wrap:wrap;\n",
              "      gap: 12px;\n",
              "    }\n",
              "\n",
              "    .colab-df-convert {\n",
              "      background-color: #E8F0FE;\n",
              "      border: none;\n",
              "      border-radius: 50%;\n",
              "      cursor: pointer;\n",
              "      display: none;\n",
              "      fill: #1967D2;\n",
              "      height: 32px;\n",
              "      padding: 0 0 0 0;\n",
              "      width: 32px;\n",
              "    }\n",
              "\n",
              "    .colab-df-convert:hover {\n",
              "      background-color: #E2EBFA;\n",
              "      box-shadow: 0px 1px 2px rgba(60, 64, 67, 0.3), 0px 1px 3px 1px rgba(60, 64, 67, 0.15);\n",
              "      fill: #174EA6;\n",
              "    }\n",
              "\n",
              "    [theme=dark] .colab-df-convert {\n",
              "      background-color: #3B4455;\n",
              "      fill: #D2E3FC;\n",
              "    }\n",
              "\n",
              "    [theme=dark] .colab-df-convert:hover {\n",
              "      background-color: #434B5C;\n",
              "      box-shadow: 0px 1px 3px 1px rgba(0, 0, 0, 0.15);\n",
              "      filter: drop-shadow(0px 1px 2px rgba(0, 0, 0, 0.3));\n",
              "      fill: #FFFFFF;\n",
              "    }\n",
              "  </style>\n",
              "\n",
              "      <script>\n",
              "        const buttonEl =\n",
              "          document.querySelector('#df-402646d9-9691-481d-b27a-4062fd8952a9 button.colab-df-convert');\n",
              "        buttonEl.style.display =\n",
              "          google.colab.kernel.accessAllowed ? 'block' : 'none';\n",
              "\n",
              "        async function convertToInteractive(key) {\n",
              "          const element = document.querySelector('#df-402646d9-9691-481d-b27a-4062fd8952a9');\n",
              "          const dataTable =\n",
              "            await google.colab.kernel.invokeFunction('convertToInteractive',\n",
              "                                                     [key], {});\n",
              "          if (!dataTable) return;\n",
              "\n",
              "          const docLinkHtml = 'Like what you see? Visit the ' +\n",
              "            '<a target=\"_blank\" href=https://colab.research.google.com/notebooks/data_table.ipynb>data table notebook</a>'\n",
              "            + ' to learn more about interactive tables.';\n",
              "          element.innerHTML = '';\n",
              "          dataTable['output_type'] = 'display_data';\n",
              "          await google.colab.output.renderOutput(dataTable, element);\n",
              "          const docLink = document.createElement('div');\n",
              "          docLink.innerHTML = docLinkHtml;\n",
              "          element.appendChild(docLink);\n",
              "        }\n",
              "      </script>\n",
              "    </div>\n",
              "  </div>\n",
              "  "
            ]
          },
          "metadata": {},
          "execution_count": 100
        }
      ]
    },
    {
      "cell_type": "code",
      "source": [
        "#because the jupyter notebook not read any nan values so I will erase this nan here in colab in this file not in preprosessing file\n",
        "text_data.dropna(axis=0,inplace=True)"
      ],
      "metadata": {
        "id": "8tZ1C6NL5plq"
      },
      "id": "8tZ1C6NL5plq",
      "execution_count": 101,
      "outputs": []
    },
    {
      "cell_type": "code",
      "source": [
        "text_data.isna().sum()"
      ],
      "metadata": {
        "colab": {
          "base_uri": "https://localhost:8080/"
        },
        "id": "aQ3GkBkP6YLm",
        "outputId": "587dd690-ec2b-42b4-e326-2b8be6ab8ebc"
      },
      "id": "aQ3GkBkP6YLm",
      "execution_count": 102,
      "outputs": [
        {
          "output_type": "execute_result",
          "data": {
            "text/plain": [
              "id         0\n",
              "dialect    0\n",
              "text       0\n",
              "dtype: int64"
            ]
          },
          "metadata": {},
          "execution_count": 102
        }
      ]
    },
    {
      "cell_type": "code",
      "execution_count": 103,
      "id": "28602fdd",
      "metadata": {
        "id": "28602fdd"
      },
      "outputs": [],
      "source": [
        "x = text_data['text']\n",
        "y = text_data['dialect']\n",
        "x_train, x_test, y_train, y_test = train_test_split(x, y, test_size=.2, stratify=y, random_state=42)"
      ]
    },
    {
      "cell_type": "code",
      "execution_count": 104,
      "id": "a499b00d",
      "metadata": {
        "colab": {
          "base_uri": "https://localhost:8080/"
        },
        "id": "a499b00d",
        "outputId": "b572958f-53be-46b8-ad60-40d896472b62"
      },
      "outputs": [
        {
          "output_type": "execute_result",
          "data": {
            "text/plain": [
              "316364                                                          طيب إقص ريال مدريد بس شو ذنب هالكتكوت\n",
              "132713     الي بدوس على قلبها وبتحكم عقلها وبتفوز اخر شي بتكون قويه محد بيقدر يهزمها  اقويانواعالنساء\n",
              "106402                                                                           مش بلوزة هاي يا هضبة\n",
              "190381                                                                  شيلات شنو معنى شيلات بالخليجي\n",
              "251861    شايفين نفسهم علينا وفاكرينها شطارة بكرة يندموا ويبتدوها من الصفر بس ساعتها اوعى تعملهم فولو\n",
              "Name: text, dtype: object"
            ]
          },
          "metadata": {},
          "execution_count": 104
        }
      ],
      "source": [
        "x_train.head()"
      ]
    },
    {
      "cell_type": "markdown",
      "id": "318f19ca",
      "metadata": {
        "id": "318f19ca"
      },
      "source": [
        "## Classification Models\n",
        "- SVM classifier when using word n-grams\n",
        "- SGD classifier when using a Tf-idf Vectorizer\n",
        "- RNN with contextualized embeddings"
      ]
    },
    {
      "cell_type": "code",
      "execution_count": null,
      "id": "6bcbcef4",
      "metadata": {
        "id": "6bcbcef4"
      },
      "outputs": [],
      "source": [
        "#intiate the function that apply different accurcy metric on prdicted data \n",
        "def print_report(pipe, x_test, y_test):\n",
        "    y_pred = pipe.predict(x_test)\n",
        "    report = metrics.classification_report(y_test, y_pred)\n",
        "    print(report)\n",
        "    print(\"accuracy: {:0.3f}\".format(metrics.accuracy_score(y_test, y_pred)))"
      ]
    },
    {
      "cell_type": "markdown",
      "id": "278c3a81",
      "metadata": {
        "id": "278c3a81"
      },
      "source": [
        "### SVM classifier when using a combination of character and word n-grams\n",
        "**The logic behined this approche is that there is uniqe words and expersion that can identify delict easily so using word n-gram will help model to focus in this important featuer**"
      ]
    },
    {
      "cell_type": "code",
      "execution_count": null,
      "id": "07b48dd6",
      "metadata": {
        "id": "07b48dd6",
        "outputId": "040644e9-9e13-441a-c74b-f151d8bc97c6"
      },
      "outputs": [
        {
          "name": "stdout",
          "output_type": "stream",
          "text": [
            "Runtime of the Model to fit 1595.9231142997742\n"
          ]
        },
        {
          "name": "stderr",
          "output_type": "stream",
          "text": [
            "C:\\Users\\Ahmed Hagras\\anaconda3\\lib\\site-packages\\sklearn\\svm\\_base.py:985: ConvergenceWarning: Liblinear failed to converge, increase the number of iterations.\n",
            "  warnings.warn(\"Liblinear failed to converge, increase \"\n"
          ]
        }
      ],
      "source": [
        "#intiate word-ngram BOW for embedding and svm for training model and fit them in pipeline \n",
        "# also calculate the time that model need to fit for comparison porpose \n",
        "\n",
        "# starting time\n",
        "start = time.time()\n",
        "vec = CountVectorizer(analyzer='word', ngram_range=(1, 3))\n",
        "clf = LinearSVC(max_iter=1500)\n",
        "svm_wordNgram_pipe = make_pipeline(vec, clf)\n",
        "svm_wordNgram_pipe.fit(x_train, y_train)\n",
        "\n",
        "# end time\n",
        "end = time.time()\n",
        "\n",
        "# total time taken\n",
        "print(f\"Runtime of the Model to fit {end - start}\")"
      ]
    },
    {
      "cell_type": "code",
      "execution_count": null,
      "id": "acb93c45",
      "metadata": {
        "id": "acb93c45",
        "outputId": "e9e14e15-6026-400f-8df0-8659d9304c73"
      },
      "outputs": [
        {
          "name": "stdout",
          "output_type": "stream",
          "text": [
            "              precision    recall  f1-score   support\n",
            "\n",
            "          AE       0.43      0.41      0.42      5259\n",
            "          BH       0.38      0.33      0.36      5258\n",
            "          DZ       0.63      0.53      0.57      3237\n",
            "          EG       0.69      0.86      0.76     11527\n",
            "          IQ       0.63      0.55      0.58      3099\n",
            "          JO       0.42      0.35      0.38      5584\n",
            "          KW       0.48      0.57      0.52      8422\n",
            "          LB       0.61      0.68      0.64      5524\n",
            "          LY       0.63      0.71      0.67      7300\n",
            "          MA       0.76      0.60      0.67      2308\n",
            "          OM       0.41      0.36      0.38      3823\n",
            "          PL       0.47      0.55      0.51      8749\n",
            "          QA       0.49      0.45      0.47      6214\n",
            "          SA       0.42      0.42      0.42      5367\n",
            "          SD       0.71      0.55      0.62      2887\n",
            "          SY       0.47      0.32      0.38      3248\n",
            "          TN       0.70      0.43      0.53      1849\n",
            "          YE       0.40      0.20      0.26      1985\n",
            "\n",
            "    accuracy                           0.54     91640\n",
            "   macro avg       0.54      0.49      0.51     91640\n",
            "weighted avg       0.53      0.54      0.53     91640\n",
            "\n",
            "accuracy: 0.539\n"
          ]
        }
      ],
      "source": [
        "print_report(svm_wordNgram_pipe, x_test, y_test)"
      ]
    },
    {
      "cell_type": "code",
      "execution_count": null,
      "id": "4d35783f",
      "metadata": {
        "id": "4d35783f",
        "outputId": "e17216c1-b971-40f0-8032-f59672b71aa3"
      },
      "outputs": [
        {
          "data": {
            "text/plain": [
              "['svm_wordNgram_pipe.pkl']"
            ]
          },
          "execution_count": 33,
          "metadata": {},
          "output_type": "execute_result"
        }
      ],
      "source": [
        "import joblib\n",
        "joblib.dump(svm_wordNgram_pipe, 'svm_wordNgram_pipe.pkl')"
      ]
    },
    {
      "cell_type": "markdown",
      "id": "ecc1fdfc",
      "metadata": {
        "id": "ecc1fdfc"
      },
      "source": [
        "### SGD classifier when using a Tf-idf Vectorizer\n",
        "**The logic behined this approche is making th unique words that identify delict easily and have less repetation so we need to make this words or expersion have more weight than others so tf-idf will be very good for it also for data training model sgd is the stokastic gradiant desent it's an optomization function used to reach to optimal is stokastic way but here in the implementation in sklearn it can implement loss function of linear calssification model like linearSVM and also this model is very good in working with large-scale and sparse problem like our problem so it solve the converge problem in pervious linearSVM model...also applaied it in grid search to tune the hyperparameters like max_df that specifiy the word considration until specific frequancy and max featuers that you can take**"
      ]
    },
    {
      "cell_type": "code",
      "execution_count": null,
      "id": "ba7c3613",
      "metadata": {
        "id": "ba7c3613",
        "outputId": "ff530ffd-7611-45be-b959-2b98098cc323"
      },
      "outputs": [
        {
          "data": {
            "text/plain": [
              "12"
            ]
          },
          "execution_count": 29,
          "metadata": {},
          "output_type": "execute_result"
        }
      ],
      "source": [
        "#just for getting the number of combination in our gridsearch to estimate if it will take very long time or not\n",
        "from sklearn.model_selection import ParameterGrid\n",
        "parameters = {'tfidf__ngram_range': [(1, 2),(1, 3)],\n",
        "              'tfidf__max_features': [500, 1000, None],\n",
        "              'tfidf__norm': ('l1', 'l2'),\n",
        "              }\n",
        "gd = ParameterGrid(parameters)\n",
        "len(gd)"
      ]
    },
    {
      "cell_type": "code",
      "execution_count": null,
      "id": "d4bf1e0c",
      "metadata": {
        "id": "d4bf1e0c",
        "outputId": "c9753280-6d80-4ddb-a5b3-fc4013907d7f"
      },
      "outputs": [
        {
          "name": "stdout",
          "output_type": "stream",
          "text": [
            "Fitting 2 folds for each of 12 candidates, totalling 24 fits\n",
            "Runtime of the Model to fit 604.7531547546387\n"
          ]
        }
      ],
      "source": [
        "# starting time\n",
        "start = time.time()\n",
        "\n",
        "sgd_wordNgram_pipe = Pipeline([\n",
        "  ('tfidf', TfidfVectorizer()),\n",
        "  ('sgd', SGDClassifier())\n",
        "  ])\n",
        "\n",
        "# sgd_wordNgram_pipe = make_pipeline(tfidf, sgd)\n",
        "parameters = {'tfidf__ngram_range': [(1, 2),(1, 3)],\n",
        "              'tfidf__max_features': [500, 1000, None],\n",
        "              'tfidf__norm': ('l1', 'l2'),\n",
        "              }\n",
        "\n",
        "grid = GridSearchCV(sgd_wordNgram_pipe, parameters, cv=2, verbose=1)\n",
        "grid.fit(x_train, y_train)\n",
        "# end time\n",
        "end = time.time()\n",
        "\n",
        "# total time taken\n",
        "print(f\"Runtime of the Model to fit {end - start}\")"
      ]
    },
    {
      "cell_type": "code",
      "execution_count": null,
      "id": "b9e398ec",
      "metadata": {
        "id": "b9e398ec",
        "outputId": "8ac6c3f0-1ab7-4364-8f41-3ba86baf2df9"
      },
      "outputs": [
        {
          "data": {
            "text/plain": [
              "Pipeline(steps=[('tfidf', TfidfVectorizer(ngram_range=(1, 2))),\n",
              "                ('sgd', SGDClassifier())])"
            ]
          },
          "execution_count": 32,
          "metadata": {},
          "output_type": "execute_result"
        }
      ],
      "source": [
        "grid.best_estimator_"
      ]
    },
    {
      "cell_type": "code",
      "execution_count": null,
      "id": "4b29d521",
      "metadata": {
        "id": "4b29d521",
        "outputId": "5790fed3-5854-4e8b-b7f2-d422c36fecb6"
      },
      "outputs": [
        {
          "name": "stdout",
          "output_type": "stream",
          "text": [
            "              precision    recall  f1-score   support\n",
            "\n",
            "          AE       0.47      0.39      0.43      5259\n",
            "          BH       0.46      0.27      0.34      5258\n",
            "          DZ       0.57      0.51      0.54      3237\n",
            "          EG       0.51      0.93      0.66     11527\n",
            "          IQ       0.60      0.56      0.58      3099\n",
            "          JO       0.48      0.26      0.34      5584\n",
            "          KW       0.48      0.60      0.53      8422\n",
            "          LB       0.52      0.73      0.61      5524\n",
            "          LY       0.60      0.67      0.63      7300\n",
            "          MA       0.64      0.61      0.62      2308\n",
            "          OM       0.51      0.31      0.38      3823\n",
            "          PL       0.52      0.46      0.49      8749\n",
            "          QA       0.47      0.49      0.48      6214\n",
            "          SA       0.47      0.39      0.42      5367\n",
            "          SD       0.57      0.41      0.47      2887\n",
            "          SY       0.51      0.21      0.30      3248\n",
            "          TN       0.68      0.39      0.50      1849\n",
            "          YE       0.55      0.15      0.23      1985\n",
            "\n",
            "    accuracy                           0.52     91640\n",
            "   macro avg       0.53      0.46      0.48     91640\n",
            "weighted avg       0.52      0.52      0.50     91640\n",
            "\n",
            "accuracy: 0.518\n"
          ]
        }
      ],
      "source": [
        "print_report(grid.best_estimator_, x_test, y_test)"
      ]
    },
    {
      "cell_type": "code",
      "execution_count": null,
      "id": "0967f041",
      "metadata": {
        "id": "0967f041",
        "outputId": "ef8ff6af-30cf-4324-fb48-dad0628b0036"
      },
      "outputs": [
        {
          "data": {
            "text/plain": [
              "['sgd_wordNgram_pipe.pkl']"
            ]
          },
          "execution_count": 34,
          "metadata": {},
          "output_type": "execute_result"
        }
      ],
      "source": [
        "import joblib\n",
        "joblib.dump(grid.best_estimator_, 'sgd_wordNgram_pipe.pkl')"
      ]
    },
    {
      "cell_type": "markdown",
      "source": [
        "### RNN with contextualized embeddings"
      ],
      "metadata": {
        "id": "ttUYmcdSku3r"
      },
      "id": "ttUYmcdSku3r"
    },
    {
      "cell_type": "code",
      "source": [
        "from tensorflow.keras.layers import GRU, Embedding, Dense, Input, Dropout, Bidirectional\n",
        "from tensorflow.keras.models import Sequential\n",
        "from keras.preprocessing.text import Tokenizer, text_to_word_sequence\n",
        "from keras.preprocessing.sequence import pad_sequences\n",
        "from sklearn.utils import shuffle"
      ],
      "metadata": {
        "id": "iNFM4pofavum"
      },
      "id": "iNFM4pofavum",
      "execution_count": 120,
      "outputs": []
    },
    {
      "cell_type": "code",
      "source": [
        "tknzr = Tokenizer(lower=True, split=\" \")\n",
        "tknzr.fit_on_texts(x)\n",
        "\n",
        "#making sequences:\n",
        "X_rnn = tknzr.texts_to_sequences(x)\n",
        "X_rnn = pad_sequences(X_rnn, padding='post', value=0)"
      ],
      "metadata": {
        "id": "JOojXxOdamlO"
      },
      "id": "JOojXxOdamlO",
      "execution_count": 121,
      "outputs": []
    },
    {
      "cell_type": "code",
      "source": [
        "y_rnn = pd.get_dummies(y)\n",
        "y_rnn.shape"
      ],
      "metadata": {
        "colab": {
          "base_uri": "https://localhost:8080/"
        },
        "id": "WFX3bZframnv",
        "outputId": "29668ca4-21d6-43ae-812d-838eec795fa1"
      },
      "id": "WFX3bZframnv",
      "execution_count": 122,
      "outputs": [
        {
          "output_type": "execute_result",
          "data": {
            "text/plain": [
              "(458196, 18)"
            ]
          },
          "metadata": {},
          "execution_count": 122
        }
      ]
    },
    {
      "cell_type": "code",
      "source": [
        "model = tf.keras.models.Sequential([    \n",
        "    tf.keras.layers.Embedding(len(tknzr.word_index), 64),\n",
        "    tf.keras.layers.SimpleRNN(64),\n",
        "    tf.keras.layers.Dense(64, activation='relu'),\n",
        "    tf.keras.layers.Dense(18, activation='sigmoid')\n",
        "])"
      ],
      "metadata": {
        "id": "gadjLK0lCqeo"
      },
      "id": "gadjLK0lCqeo",
      "execution_count": 126,
      "outputs": []
    },
    {
      "cell_type": "code",
      "source": [
        "model.compile(loss='binary_crossentropy',optimizer=tf.keras.optimizers.Adam(),\n",
        "              metrics=['accuracy'])"
      ],
      "metadata": {
        "id": "HQJyO1L-SqxR"
      },
      "id": "HQJyO1L-SqxR",
      "execution_count": 127,
      "outputs": []
    },
    {
      "cell_type": "code",
      "source": [
        "model.summary()"
      ],
      "metadata": {
        "colab": {
          "base_uri": "https://localhost:8080/"
        },
        "id": "xNXznFmbLp3J",
        "outputId": "adad60f5-d7d0-4414-e6e5-34371beb25ea"
      },
      "id": "xNXznFmbLp3J",
      "execution_count": 129,
      "outputs": [
        {
          "output_type": "stream",
          "name": "stdout",
          "text": [
            "Model: \"sequential_7\"\n",
            "_________________________________________________________________\n",
            " Layer (type)                Output Shape              Param #   \n",
            "=================================================================\n",
            " embedding_7 (Embedding)     (None, None, 64)          32931648  \n",
            "                                                                 \n",
            " simple_rnn_5 (SimpleRNN)    (None, 64)                8256      \n",
            "                                                                 \n",
            " dense_14 (Dense)            (None, 64)                4160      \n",
            "                                                                 \n",
            " dense_15 (Dense)            (None, 18)                1170      \n",
            "                                                                 \n",
            "=================================================================\n",
            "Total params: 32,945,234\n",
            "Trainable params: 32,945,234\n",
            "Non-trainable params: 0\n",
            "_________________________________________________________________\n"
          ]
        }
      ]
    },
    {
      "cell_type": "code",
      "source": [
        "model.fit(X_rnn, y_rnn, validation_split = 0.1, epochs = 3, batch_size= 128, shuffle = True)"
      ],
      "metadata": {
        "colab": {
          "base_uri": "https://localhost:8080/"
        },
        "id": "0J_R9yPTSqzx",
        "outputId": "590ca71e-1b49-4d33-e634-3acf0a87b7ff"
      },
      "id": "0J_R9yPTSqzx",
      "execution_count": null,
      "outputs": [
        {
          "output_type": "stream",
          "name": "stdout",
          "text": [
            "Epoch 1/3\n",
            " 602/3222 [====>.........................] - ETA: 15:49 - loss: 0.2123 - accuracy: 0.1283"
          ]
        }
      ]
    },
    {
      "cell_type": "code",
      "source": [
        "test_loss, test_acc = model.evaluate(x_test_padded, y_test)\n",
        "\n",
        "print('Test Loss: {}'.format(test_loss))\n",
        "print('Test Accuracy: {}'.format(test_acc))"
      ],
      "metadata": {
        "id": "wPn08zaxW5g7"
      },
      "id": "wPn08zaxW5g7",
      "execution_count": null,
      "outputs": []
    }
  ],
  "metadata": {
    "kernelspec": {
      "display_name": "Python 3 (ipykernel)",
      "language": "python",
      "name": "python3"
    },
    "language_info": {
      "codemirror_mode": {
        "name": "ipython",
        "version": 3
      },
      "file_extension": ".py",
      "mimetype": "text/x-python",
      "name": "python",
      "nbconvert_exporter": "python",
      "pygments_lexer": "ipython3",
      "version": "3.9.7"
    },
    "colab": {
      "name": "03-- Model Training.ipynb",
      "provenance": [],
      "collapsed_sections": []
    }
  },
  "nbformat": 4,
  "nbformat_minor": 5
}