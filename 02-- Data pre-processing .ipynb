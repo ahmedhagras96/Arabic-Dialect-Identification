{
 "cells": [
  {
   "cell_type": "code",
   "execution_count": 1,
   "id": "ef4a4f5a",
   "metadata": {},
   "outputs": [],
   "source": [
    "#import nessery libraries\n",
    "import pandas as pd\n",
    "import re"
   ]
  },
  {
   "cell_type": "code",
   "execution_count": 4,
   "id": "34c616ec",
   "metadata": {},
   "outputs": [
    {
     "data": {
      "text/html": [
       "<div>\n",
       "<style scoped>\n",
       "    .dataframe tbody tr th:only-of-type {\n",
       "        vertical-align: middle;\n",
       "    }\n",
       "\n",
       "    .dataframe tbody tr th {\n",
       "        vertical-align: top;\n",
       "    }\n",
       "\n",
       "    .dataframe thead th {\n",
       "        text-align: right;\n",
       "    }\n",
       "</style>\n",
       "<table border=\"1\" class=\"dataframe\">\n",
       "  <thead>\n",
       "    <tr style=\"text-align: right;\">\n",
       "      <th></th>\n",
       "      <th>id</th>\n",
       "      <th>dialect</th>\n",
       "      <th>text</th>\n",
       "    </tr>\n",
       "  </thead>\n",
       "  <tbody>\n",
       "    <tr>\n",
       "      <th>0</th>\n",
       "      <td>1175358310087892992</td>\n",
       "      <td>IQ</td>\n",
       "      <td>@Nw8ieJUwaCAAreT لكن بالنهاية .. ينتفض .. يغير .</td>\n",
       "    </tr>\n",
       "    <tr>\n",
       "      <th>1</th>\n",
       "      <td>1175416117793349632</td>\n",
       "      <td>IQ</td>\n",
       "      <td>@7zNqXP0yrODdRjK يعني هذا محسوب على البشر .. حيونه ووحشيه .. وتطلبون من الغرب يحترمكم ويؤمن بدينكم ولاينعتكم بالإرهاب ..</td>\n",
       "    </tr>\n",
       "    <tr>\n",
       "      <th>2</th>\n",
       "      <td>1175450108898565888</td>\n",
       "      <td>IQ</td>\n",
       "      <td>@KanaanRema مبين من كلامه خليجي</td>\n",
       "    </tr>\n",
       "    <tr>\n",
       "      <th>3</th>\n",
       "      <td>1175471073770573824</td>\n",
       "      <td>IQ</td>\n",
       "      <td>@HAIDER76128900 يسلملي مرورك وروحك الحلوه💐</td>\n",
       "    </tr>\n",
       "    <tr>\n",
       "      <th>4</th>\n",
       "      <td>1175496913145217024</td>\n",
       "      <td>IQ</td>\n",
       "      <td>@hmo2406 وين هل الغيبه  اخ محمد 🌸🌺</td>\n",
       "    </tr>\n",
       "  </tbody>\n",
       "</table>\n",
       "</div>"
      ],
      "text/plain": [
       "                    id dialect  \\\n",
       "0  1175358310087892992      IQ   \n",
       "1  1175416117793349632      IQ   \n",
       "2  1175450108898565888      IQ   \n",
       "3  1175471073770573824      IQ   \n",
       "4  1175496913145217024      IQ   \n",
       "\n",
       "                                                                                                                       text  \n",
       "0                                                                          @Nw8ieJUwaCAAreT لكن بالنهاية .. ينتفض .. يغير .  \n",
       "1  @7zNqXP0yrODdRjK يعني هذا محسوب على البشر .. حيونه ووحشيه .. وتطلبون من الغرب يحترمكم ويؤمن بدينكم ولاينعتكم بالإرهاب ..  \n",
       "2                                                                                           @KanaanRema مبين من كلامه خليجي  \n",
       "3                                                                                @HAIDER76128900 يسلملي مرورك وروحك الحلوه💐  \n",
       "4                                                                                        @hmo2406 وين هل الغيبه  اخ محمد 🌸🌺  "
      ]
     },
     "execution_count": 4,
     "metadata": {},
     "output_type": "execute_result"
    }
   ],
   "source": [
    "#inspect our data \n",
    "pd.set_option('display.max_colwidth', 100000)\n",
    "pd.set_option(\"display.min_rows\", 20)\n",
    "text_data = pd.read_csv('texted_dialect_dataset.csv')\n",
    "text_data.head()"
   ]
  },
  {
   "cell_type": "code",
   "execution_count": null,
   "id": "9dbb47f8",
   "metadata": {},
   "outputs": [],
   "source": [
    "x = text_data.drop('dialect')\n",
    "y = text_data['dialect']\n",
    "x_train, x_test, y_train, y_test = train_test_split(x, y, test_size=.2, stratify=y, random_state=42)"
   ]
  },
  {
   "cell_type": "markdown",
   "id": "87cadf9a",
   "metadata": {},
   "source": [
    "## Data Cleaning"
   ]
  },
  {
   "cell_type": "code",
   "execution_count": 20,
   "id": "12d68118",
   "metadata": {},
   "outputs": [],
   "source": [
    "# all we care about in our text data is the arabics word because it's can specify the dielect according to it only so we  \n",
    "# will erase all other caracters like english words symbols and emojis\n",
    "text_data['text'] = text_data['text'].apply(lambda x:re.sub(r\"([@A-Za-z0-9_ـــــــــــــ]+)|[^\\w\\s]|#|http\\S+\", \"\", x))\n",
    "\n",
    "#to remove tleading and trailing whitespaces in strings in our data espiacially spaces preduced from pervious steps\n",
    "text_data['text'] = text_data['text'].apply(lambda x:x.strip())"
   ]
  },
  {
   "cell_type": "code",
   "execution_count": 21,
   "id": "ae062961",
   "metadata": {},
   "outputs": [
    {
     "data": {
      "text/html": [
       "<div>\n",
       "<style scoped>\n",
       "    .dataframe tbody tr th:only-of-type {\n",
       "        vertical-align: middle;\n",
       "    }\n",
       "\n",
       "    .dataframe tbody tr th {\n",
       "        vertical-align: top;\n",
       "    }\n",
       "\n",
       "    .dataframe thead th {\n",
       "        text-align: right;\n",
       "    }\n",
       "</style>\n",
       "<table border=\"1\" class=\"dataframe\">\n",
       "  <thead>\n",
       "    <tr style=\"text-align: right;\">\n",
       "      <th></th>\n",
       "      <th>id</th>\n",
       "      <th>dialect</th>\n",
       "      <th>text</th>\n",
       "    </tr>\n",
       "  </thead>\n",
       "  <tbody>\n",
       "    <tr>\n",
       "      <th>0</th>\n",
       "      <td>1175358310087892992</td>\n",
       "      <td>IQ</td>\n",
       "      <td>لكن بالنهاية  ينتفض  يغير</td>\n",
       "    </tr>\n",
       "    <tr>\n",
       "      <th>1</th>\n",
       "      <td>1175416117793349632</td>\n",
       "      <td>IQ</td>\n",
       "      <td>يعني هذا محسوب على البشر  حيونه ووحشيه  وتطلبون من الغرب يحترمكم ويؤمن بدينكم ولاينعتكم بالإرهاب</td>\n",
       "    </tr>\n",
       "    <tr>\n",
       "      <th>2</th>\n",
       "      <td>1175450108898565888</td>\n",
       "      <td>IQ</td>\n",
       "      <td>مبين من كلامه خليجي</td>\n",
       "    </tr>\n",
       "    <tr>\n",
       "      <th>3</th>\n",
       "      <td>1175471073770573824</td>\n",
       "      <td>IQ</td>\n",
       "      <td>يسلملي مرورك وروحك الحلوه</td>\n",
       "    </tr>\n",
       "    <tr>\n",
       "      <th>4</th>\n",
       "      <td>1175496913145217024</td>\n",
       "      <td>IQ</td>\n",
       "      <td>وين هل الغيبه  اخ محمد</td>\n",
       "    </tr>\n",
       "    <tr>\n",
       "      <th>5</th>\n",
       "      <td>1175668034146643968</td>\n",
       "      <td>IQ</td>\n",
       "      <td>يااخي الإرهابي اذا كان عراقي سعودي فلسطيني وين المشكلة على باب الفرضخليجي وماعنده رحمه وين المساس بقدسيتك  الله يرضى عنك خلصت مشاكل العرب واختلفنا بجنسيت ابو الطفل  المغردين سألوا من وين ورجحت وين الكارثة اللي وصلتك</td>\n",
       "    </tr>\n",
       "    <tr>\n",
       "      <th>6</th>\n",
       "      <td>1175670153884983296</td>\n",
       "      <td>IQ</td>\n",
       "      <td>مطلبي يقدم استقالته وفوگاها اعتذار</td>\n",
       "    </tr>\n",
       "    <tr>\n",
       "      <th>7</th>\n",
       "      <td>1175671762580856832</td>\n",
       "      <td>IQ</td>\n",
       "      <td>خلص والله لعيونكم انا ماعندي شيء معه بالعكس من متابعيني اللي بعتز فيهم  خلص صافية لبن</td>\n",
       "    </tr>\n",
       "    <tr>\n",
       "      <th>8</th>\n",
       "      <td>1175715664398561280</td>\n",
       "      <td>IQ</td>\n",
       "      <td>يمكن سؤال فات الكثير اللي يصور   شنو موقفه وكأنه يوثق بطوله  المفروض حتى المصور يحال للقضاء لان نظرات الطفله تستنجد باتجاه الكاميرا</td>\n",
       "    </tr>\n",
       "    <tr>\n",
       "      <th>9</th>\n",
       "      <td>1176019816072777728</td>\n",
       "      <td>IQ</td>\n",
       "      <td>اولا اني ردت على رجل جنوبي واللي ذكر حجابها  ثانيا انت شدعوه صايره محامي لكوهين  صحيح مقولة العراق بلد الغرائب والعجائب</td>\n",
       "    </tr>\n",
       "    <tr>\n",
       "      <th>10</th>\n",
       "      <td>1176068581487992832</td>\n",
       "      <td>IQ</td>\n",
       "      <td>والله هذا الموضوع جدا حساس ويحير اتفق معك بس انت لاتروح زايد عادي</td>\n",
       "    </tr>\n",
       "    <tr>\n",
       "      <th>11</th>\n",
       "      <td>1176068868747538432</td>\n",
       "      <td>IQ</td>\n",
       "      <td>لا ان شاء الله اخوه يجمعنه العراق اللي بكل جحيمه حلو</td>\n",
       "    </tr>\n",
       "    <tr>\n",
       "      <th>12</th>\n",
       "      <td>1176198561941413888</td>\n",
       "      <td>IQ</td>\n",
       "      <td>يسعد مساك سيد الحرف الحزين</td>\n",
       "    </tr>\n",
       "    <tr>\n",
       "      <th>13</th>\n",
       "      <td>1176199622412427264</td>\n",
       "      <td>IQ</td>\n",
       "      <td>ههههه عدوله گلبه ورم من عدنه  گلك خل اتونس همه بكل شيء مارضين فهاي السفره اسمها  اتونس وبكيفي</td>\n",
       "    </tr>\n",
       "    <tr>\n",
       "      <th>14</th>\n",
       "      <td>1176460355939328000</td>\n",
       "      <td>IQ</td>\n",
       "      <td>يسلملي مرورك روعات تواصلك</td>\n",
       "    </tr>\n",
       "    <tr>\n",
       "      <th>15</th>\n",
       "      <td>1176572872577474560</td>\n",
       "      <td>IQ</td>\n",
       "      <td>يسعد مساك بنت العم</td>\n",
       "    </tr>\n",
       "    <tr>\n",
       "      <th>16</th>\n",
       "      <td>1176608948671209472</td>\n",
       "      <td>IQ</td>\n",
       "      <td>مااخذ اي بشر وحدي</td>\n",
       "    </tr>\n",
       "    <tr>\n",
       "      <th>17</th>\n",
       "      <td>1176877065473274112</td>\n",
       "      <td>IQ</td>\n",
       "      <td>اتركه فتره اذا ماسأل مايستحق اهتمامك</td>\n",
       "    </tr>\n",
       "    <tr>\n",
       "      <th>18</th>\n",
       "      <td>1177172360455237632</td>\n",
       "      <td>IQ</td>\n",
       "      <td>يأكلون بخيرنه ويهينون  موظفينه</td>\n",
       "    </tr>\n",
       "    <tr>\n",
       "      <th>19</th>\n",
       "      <td>1177213425858109440</td>\n",
       "      <td>IQ</td>\n",
       "      <td>عباله يرجع صدام حسين للحكم</td>\n",
       "    </tr>\n",
       "  </tbody>\n",
       "</table>\n",
       "</div>"
      ],
      "text/plain": [
       "                     id dialect  \\\n",
       "0   1175358310087892992      IQ   \n",
       "1   1175416117793349632      IQ   \n",
       "2   1175450108898565888      IQ   \n",
       "3   1175471073770573824      IQ   \n",
       "4   1175496913145217024      IQ   \n",
       "5   1175668034146643968      IQ   \n",
       "6   1175670153884983296      IQ   \n",
       "7   1175671762580856832      IQ   \n",
       "8   1175715664398561280      IQ   \n",
       "9   1176019816072777728      IQ   \n",
       "10  1176068581487992832      IQ   \n",
       "11  1176068868747538432      IQ   \n",
       "12  1176198561941413888      IQ   \n",
       "13  1176199622412427264      IQ   \n",
       "14  1176460355939328000      IQ   \n",
       "15  1176572872577474560      IQ   \n",
       "16  1176608948671209472      IQ   \n",
       "17  1176877065473274112      IQ   \n",
       "18  1177172360455237632      IQ   \n",
       "19  1177213425858109440      IQ   \n",
       "\n",
       "                                                                                                                                                                                                                       text  \n",
       "0                                                                                                                                                                                                 لكن بالنهاية  ينتفض  يغير  \n",
       "1                                                                                                                          يعني هذا محسوب على البشر  حيونه ووحشيه  وتطلبون من الغرب يحترمكم ويؤمن بدينكم ولاينعتكم بالإرهاب  \n",
       "2                                                                                                                                                                                                       مبين من كلامه خليجي  \n",
       "3                                                                                                                                                                                                 يسلملي مرورك وروحك الحلوه  \n",
       "4                                                                                                                                                                                                    وين هل الغيبه  اخ محمد  \n",
       "5   يااخي الإرهابي اذا كان عراقي سعودي فلسطيني وين المشكلة على باب الفرضخليجي وماعنده رحمه وين المساس بقدسيتك  الله يرضى عنك خلصت مشاكل العرب واختلفنا بجنسيت ابو الطفل  المغردين سألوا من وين ورجحت وين الكارثة اللي وصلتك  \n",
       "6                                                                                                                                                                                        مطلبي يقدم استقالته وفوگاها اعتذار  \n",
       "7                                                                                                                                     خلص والله لعيونكم انا ماعندي شيء معه بالعكس من متابعيني اللي بعتز فيهم  خلص صافية لبن  \n",
       "8                                                                                       يمكن سؤال فات الكثير اللي يصور   شنو موقفه وكأنه يوثق بطوله  المفروض حتى المصور يحال للقضاء لان نظرات الطفله تستنجد باتجاه الكاميرا  \n",
       "9                                                                                                   اولا اني ردت على رجل جنوبي واللي ذكر حجابها  ثانيا انت شدعوه صايره محامي لكوهين  صحيح مقولة العراق بلد الغرائب والعجائب  \n",
       "10                                                                                                                                                        والله هذا الموضوع جدا حساس ويحير اتفق معك بس انت لاتروح زايد عادي  \n",
       "11                                                                                                                                                                     لا ان شاء الله اخوه يجمعنه العراق اللي بكل جحيمه حلو  \n",
       "12                                                                                                                                                                                               يسعد مساك سيد الحرف الحزين  \n",
       "13                                                                                                                            ههههه عدوله گلبه ورم من عدنه  گلك خل اتونس همه بكل شيء مارضين فهاي السفره اسمها  اتونس وبكيفي  \n",
       "14                                                                                                                                                                                                يسلملي مرورك روعات تواصلك  \n",
       "15                                                                                                                                                                                                       يسعد مساك بنت العم  \n",
       "16                                                                                                                                                                                                        مااخذ اي بشر وحدي  \n",
       "17                                                                                                                                                                                     اتركه فتره اذا ماسأل مايستحق اهتمامك  \n",
       "18                                                                                                                                                                                           يأكلون بخيرنه ويهينون  موظفينه  \n",
       "19                                                                                                                                                                                               عباله يرجع صدام حسين للحكم  "
      ]
     },
     "execution_count": 21,
     "metadata": {},
     "output_type": "execute_result"
    }
   ],
   "source": [
    "#inspect data after clean\n",
    "text_data.head(20)"
   ]
  },
  {
   "cell_type": "code",
   "execution_count": 22,
   "id": "42f71b36",
   "metadata": {},
   "outputs": [
    {
     "data": {
      "text/plain": [
       "id         0\n",
       "dialect    0\n",
       "text       0\n",
       "dtype: int64"
      ]
     },
     "execution_count": 22,
     "metadata": {},
     "output_type": "execute_result"
    }
   ],
   "source": [
    "text_data.isnull().sum(axis = 0)"
   ]
  },
  {
   "cell_type": "code",
   "execution_count": 23,
   "id": "49acfec5",
   "metadata": {},
   "outputs": [],
   "source": [
    "# after clear the text from all unwanted caracters it's may preduce some nan values in text column so we need to clean it\n",
    "text_data.dropna(axis=0,inplace=True)"
   ]
  },
  {
   "cell_type": "code",
   "execution_count": 27,
   "id": "6af53076",
   "metadata": {},
   "outputs": [
    {
     "data": {
      "text/plain": [
       "id         0\n",
       "dialect    0\n",
       "text       0\n",
       "dtype: int64"
      ]
     },
     "execution_count": 27,
     "metadata": {},
     "output_type": "execute_result"
    }
   ],
   "source": [
    "text_data.isna().sum()"
   ]
  },
  {
   "cell_type": "markdown",
   "id": "67f70a35",
   "metadata": {},
   "source": [
    "**Notes :** \n",
    "- we don't need to apply stemming or lemmtization in our texts because there are unique words or combination of words that may help to classify dialect of the text easily so stemming and Lemmatization may destroy this context, expersions or words\n",
    "- For word embedding we will perform it in model because we can take many approches with different models according to logic we are follow"
   ]
  },
  {
   "cell_type": "code",
   "execution_count": 26,
   "id": "a0ee423e",
   "metadata": {},
   "outputs": [],
   "source": [
    "#Export the new data\n",
    "text_data.to_csv(r'text_ArabDialect_dataset.csv', index = False)"
   ]
  },
  {
   "cell_type": "code",
   "execution_count": null,
   "id": "537e5a34",
   "metadata": {},
   "outputs": [],
   "source": []
  }
 ],
 "metadata": {
  "kernelspec": {
   "display_name": "Python 3 (ipykernel)",
   "language": "python",
   "name": "python3"
  },
  "language_info": {
   "codemirror_mode": {
    "name": "ipython",
    "version": 3
   },
   "file_extension": ".py",
   "mimetype": "text/x-python",
   "name": "python",
   "nbconvert_exporter": "python",
   "pygments_lexer": "ipython3",
   "version": "3.9.7"
  }
 },
 "nbformat": 4,
 "nbformat_minor": 5
}
